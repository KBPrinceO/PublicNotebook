{
 "cells": [
  {
   "cell_type": "markdown",
   "id": "ce030725-bc28-4e8d-aaab-f918fe5bcd5a",
   "metadata": {},
   "source": [
    "Data Science Tools and Ecosystem"
   ]
  },
  {
   "cell_type": "markdown",
   "id": "04f0f97e-b387-440a-955f-d08a9d917747",
   "metadata": {},
   "source": [
    "In this notebook, Data Science Tools and Ecosystem are summarized."
   ]
  },
  {
   "cell_type": "markdown",
   "id": "f68a756d-c193-4d30-9362-662c878792b4",
   "metadata": {},
   "source": [
    "__Objectives:__\n",
    "* List popular languages for data science\n",
    "* Create familiarity with Jupyter notebook\n",
    "* Introduce Python\n",
    "* Introduct Anaconda & R Studio\n"
   ]
  },
  {
   "cell_type": "markdown",
   "id": "a584a4ef-c131-4d96-8e6b-b4f0fe1b151f",
   "metadata": {},
   "source": [
    "Some of the popular languages that Data Scientists use are:\n",
    "1. Python\n",
    "2. R\n",
    "3. Sql"
   ]
  },
  {
   "cell_type": "markdown",
   "id": "409409b9-417e-45e0-98e0-ca196bef4098",
   "metadata": {},
   "source": [
    "Some of the commonly used libraries used by Data Scientists include:\n",
    "1. datasets\n",
    "2. ggplot\n",
    "3. ggally"
   ]
  },
  {
   "cell_type": "markdown",
   "id": "67d80e34-44dd-47a0-8763-1c5d8dc7ccc3",
   "metadata": {},
   "source": [
    "| Data Science Tools|\n",
    " ------------------\n",
    "Anaconda\n",
    "R Studio\n",
    "VS Code\n"
   ]
  },
  {
   "cell_type": "markdown",
   "id": "d187bfa8-ed73-42da-aff3-9f0ddb5ebf8c",
   "metadata": {},
   "source": [
    "### Below are a few examples of evaluating arithmetic expressions in Python"
   ]
  },
  {
   "cell_type": "code",
   "execution_count": 15,
   "id": "8dcbe9e8-c8b4-4694-b0ae-4378a3d5f15c",
   "metadata": {},
   "outputs": [
    {
     "data": {
      "text/plain": [
       "17"
      ]
     },
     "execution_count": 15,
     "metadata": {},
     "output_type": "execute_result"
    }
   ],
   "source": [
    "# This a simple arithmetic expression to mutiply then add integers\n",
    "(3*4)+5"
   ]
  },
  {
   "cell_type": "code",
   "execution_count": 27,
   "id": "926c30e0-5ff1-43ea-a5e8-d4f03391165e",
   "metadata": {},
   "outputs": [
    {
     "name": "stdout",
     "output_type": "stream",
     "text": [
      "3.3333333333333335\n"
     ]
    }
   ],
   "source": [
    "#This will convert 200 minutes to hours by diving by 60\n",
    "print(200/60)\n"
   ]
  },
  {
   "cell_type": "code",
   "execution_count": null,
   "id": "2da794fe-c892-4a6b-af68-489e0281ea7f",
   "metadata": {},
   "outputs": [],
   "source": []
  }
 ],
 "metadata": {
  "kernelspec": {
   "display_name": "Python 3 (ipykernel)",
   "language": "python",
   "name": "python3"
  },
  "language_info": {
   "codemirror_mode": {
    "name": "ipython",
    "version": 3
   },
   "file_extension": ".py",
   "mimetype": "text/x-python",
   "name": "python",
   "nbconvert_exporter": "python",
   "pygments_lexer": "ipython3",
   "version": "3.12.4"
  }
 },
 "nbformat": 4,
 "nbformat_minor": 5
}
